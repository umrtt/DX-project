{
 "cells": [
  {
   "cell_type": "code",
   "execution_count": 17,
   "id": "ec01e7d8-1cfc-4667-948a-9f96aaebfb3e",
   "metadata": {},
   "outputs": [],
   "source": [
    "from tensorflow.keras.applications import ResNet50, VGG16\n",
    "from tensorflow.keras.preprocessing.image import img_to_array, load_img\n",
    "from tensorflow.keras.applications import imagenet_utils\n",
    "from tensorflow.keras.models import Model\n",
    "\n",
    "import tensorflow as tf\n",
    "\n",
    "import numpy as np\n",
    "import imutils\n",
    "import cv2"
   ]
  },
  {
   "cell_type": "code",
   "execution_count": 9,
   "id": "d6e232fa-a85d-4e1e-8a0f-ff50311cad91",
   "metadata": {},
   "outputs": [
    {
     "name": "stdout",
     "output_type": "stream",
     "text": [
      "Downloading data from https://storage.googleapis.com/tensorflow/keras-applications/vgg16/vgg16_weights_tf_dim_ordering_tf_kernels.h5\n",
      "\u001b[1m553467096/553467096\u001b[0m \u001b[32m━━━━━━━━━━━━━━━━━━━━\u001b[0m\u001b[37m\u001b[0m \u001b[1m52s\u001b[0m 0us/step\n"
     ]
    }
   ],
   "source": [
    "model = VGG16(weights='imagenet')"
   ]
  },
  {
   "cell_type": "code",
   "execution_count": 13,
   "id": "4ed09823-b721-4047-abb9-111c08f5c17e",
   "metadata": {},
   "outputs": [],
   "source": [
    "orig = cv2.imread('beagle.jpg')\n",
    "resized = cv2.resize(orig,(224,224))"
   ]
  },
  {
   "cell_type": "code",
   "execution_count": 35,
   "id": "d0a50e2b-c642-4ce9-a7f2-c0ed8f79ddd1",
   "metadata": {},
   "outputs": [
    {
     "name": "stdout",
     "output_type": "stream",
     "text": [
      "(224, 224, 3)\n",
      "[187. 184. 146.]\n",
      "[42.060997 67.221    63.32    ]\n"
     ]
    }
   ],
   "source": [
    "image = load_img('beagle.jpg', target_size = (224,224))\n",
    "image = img_to_array(image)\n",
    "print(image.shape)\n",
    "image = np.expand_dims(image,axis=0)\n",
    "print(image[0,0,0])\n",
    "image = imagenet_utils.preprocess_input(image)\n",
    "print(image[0,0,0])"
   ]
  },
  {
   "cell_type": "code",
   "execution_count": 37,
   "id": "01921ba7-981e-435a-a29b-ee3deda2729b",
   "metadata": {},
   "outputs": [
    {
     "name": "stdout",
     "output_type": "stream",
     "text": [
      "\u001b[1m1/1\u001b[0m \u001b[32m━━━━━━━━━━━━━━━━━━━━\u001b[0m\u001b[37m\u001b[0m \u001b[1m0s\u001b[0m 493ms/step\n"
     ]
    },
    {
     "data": {
      "text/plain": [
       "162"
      ]
     },
     "execution_count": 37,
     "metadata": {},
     "output_type": "execute_result"
    }
   ],
   "source": [
    "preds = model.predict(image)\n",
    "i = np.argmax(preds[0])\n",
    "i"
   ]
  },
  {
   "cell_type": "code",
   "execution_count": 41,
   "id": "02ca8aeb-c559-4590-a6a4-6ac770c0e844",
   "metadata": {},
   "outputs": [
    {
     "name": "stdout",
     "output_type": "stream",
     "text": [
      "Downloading data from https://storage.googleapis.com/download.tensorflow.org/data/imagenet_class_index.json\n",
      "\u001b[1m35363/35363\u001b[0m \u001b[32m━━━━━━━━━━━━━━━━━━━━\u001b[0m\u001b[37m\u001b[0m \u001b[1m0s\u001b[0m 1us/step\n",
      "[INFO] beagle: 94.28%\n"
     ]
    }
   ],
   "source": [
    "decoded = imagenet_utils.decode_predictions(preds)\n",
    "(imagenetID, label, prob) = decoded[0][0]\n",
    "label = \"{}: {:.2f}%\".format(label,prob*100)\n",
    "print(\"[INFO] {}\".format(label))"
   ]
  },
  {
   "cell_type": "code",
   "execution_count": 65,
   "id": "d6ea36e1-33d5-497c-8572-523ef72fb637",
   "metadata": {},
   "outputs": [],
   "source": [
    "class GradCAM:\n",
    "    def __init__(self, model, classIdx, layerName =None):\n",
    "        \"\"\"\"store the model, the class index used to measure the class\n",
    "        activation map and the layer to be used when visualizing\n",
    "        the class activation map\"\"\"\n",
    "        self.model = model\n",
    "        self.classIdx = classIdx\n",
    "        self.layerName = layerName\n",
    "\n",
    "        #if the layer name is None, attemp to automatically find the target output layer\n",
    "        if self.layerName is None:\n",
    "            self.layerName = self.find_target_layer()\n",
    "    def find_target_layer(self):\n",
    "        \"\"\"attempt to find the final convolutional layer in the network\n",
    "        #by looping over the layer of the network in reverse order\"\"\"\n",
    "        for layer in reversed(self.model.layers):\n",
    "            #check to see if the layer has a 4D ouput\n",
    "            if len(layer.output.shape) ==4:\n",
    "                return layer.name\n",
    "        # If we can not find the 4D layer raise the valueError\n",
    "        raise ValueError(\"Could not find the 4D layer, cannot apply GradCam.\")\n",
    "    def compute_heatmap(self, image, eps=1e-8):\n",
    "        \"\"\"construct our gradient model by supplying the inputs\n",
    "            to our pre-trained model, the output of the (presumably) final\n",
    "            4D layer in the network and the ouput of the softmax activation\n",
    "            from the model\"\"\"\n",
    "        gradModel = Model(inputs=[self.model.inputs], \n",
    "                          outputs=[self.model.get_layer(self.layerName).output,\n",
    "                                  self.model.output])\n",
    "        #record operations for automatic differentiation\n",
    "        with tf.GradientTape() as tape:\n",
    "            \"\"\"Cast the image tensor to a float-32 data type,\n",
    "            pass the image through the gradient model, and grab\n",
    "            the loss associated with the specific class index\"\"\"\n",
    "            inputs = tf.cast(image,tf.float32)\n",
    "            (convOutputs, predictions) = gradModel(inputs)\n",
    "            loss = predictions[:,self.classIdx]\n",
    "        # use automatic differentiation to compute the gradients\n",
    "        grads = tape.gradient(loss, convOutputs)\n",
    "\n",
    "        #compute the guided gradients\n",
    "        castConvOutputs = tf.cast(convOutputs>0,\"float32\")\n",
    "        castGrads = tf.cast(grads>0,'float32')\n",
    "        guidedGrads = castConvOutputs*castGrads*grads\n",
    "        #grab the volume and discard the batch\n",
    "        convOutputs = convOutputs[0]\n",
    "        guidedGrads = guidedGrads[0]\n",
    "        #compute the average of the gradient values and using them as\n",
    "        #weights, compute the ponderation of the filters with respect\n",
    "        #to the weights\n",
    "        weights = tf.reduce_mean(guidedGrads, axis=(0,1))\n",
    "        cam = tf.reduce_sum(tf.multiply(weights,convOutputs),axis=-1)\n",
    "        print(cam)\n",
    "        #grab the spatial dimenstions of the input image and resize \n",
    "        #the output class activation map to match the input image dimensions\n",
    "        (w,h) = (image.shape[2], image.shape[1])\n",
    "        heatmap = cv2.resize(cam.numpy(),(w,h))\n",
    "\n",
    "        # normalize the heatmap such that all value lie in the range [0,1]\n",
    "        #scale the resulting values to the range [0,255] and then convert\n",
    "        #to an unsigned 8-bit interger\n",
    "        numer = heatmap - np.min(heatmap)\n",
    "        denom = (heatmap.max() - heatmap.min()) + eps\n",
    "        heatmap = numer/denom\n",
    "        heatmap = (heatmap*255).astype('uint8')\n",
    "        #return the resulting heatmap to the calling function\n",
    "        return heatmap\n",
    "    def overlay_heatmap(self, heatmap, image, alpha=0.5,\n",
    "        colormap=cv2.COLORMAP_JET):\n",
    "        # apply the supplied color map to the heatmap and then\n",
    "        # overlay the heatmap on the input image\n",
    "        heatmap = cv2.applyColorMap(heatmap, colormap)\n",
    "        output = cv2.addWeighted(image, alpha, heatmap, 1 - alpha, 0)\n",
    "\n",
    "        # return a 2-tuple of the color mapped heatmap and the output,\n",
    "        # overlaid image\n",
    "        return (heatmap, output)"
   ]
  },
  {
   "cell_type": "code",
   "execution_count": 67,
   "id": "c6aa6672-61d2-48d9-b410-dd586eb2539b",
   "metadata": {},
   "outputs": [
    {
     "name": "stdout",
     "output_type": "stream",
     "text": [
      "tf.Tensor(\n",
      "[[0.00061249 0.00126152 0.00163622 0.00202499 0.00213544 0.00177316\n",
      "  0.00054682]\n",
      " [0.00121466 0.00086621 0.00114323 0.00570233 0.00714404 0.00334306\n",
      "  0.00164447]\n",
      " [0.00116878 0.00139912 0.00645546 0.01056898 0.00979777 0.00583597\n",
      "  0.00118444]\n",
      " [0.00159302 0.00161861 0.00923773 0.01136833 0.01166201 0.00916914\n",
      "  0.00084717]\n",
      " [0.00233511 0.00277889 0.00743677 0.00989177 0.00968563 0.00659239\n",
      "  0.00303645]\n",
      " [0.0039913  0.00439681 0.00761365 0.00755452 0.00532672 0.0049744\n",
      "  0.00297718]\n",
      " [0.00260728 0.00308165 0.00423762 0.0030474  0.00430109 0.00330342\n",
      "  0.00338376]], shape=(7, 7), dtype=float32)\n"
     ]
    }
   ],
   "source": [
    "# initialize our gradient class activation map and build the heatmap\n",
    "cam = GradCAM(model, i)\n",
    "heatmap = cam.compute_heatmap(image)"
   ]
  },
  {
   "cell_type": "code",
   "execution_count": 69,
   "id": "d5f52bbf-240d-4185-8359-579678a1db98",
   "metadata": {},
   "outputs": [],
   "source": [
    "# resize the resulting heatmap to the original input image dimensions\n",
    "# and then overlay heatmap on top of the image\n",
    "heatmap = cv2.resize(heatmap, (orig.shape[1], orig.shape[0]))\n",
    "(heatmap, output) = cam.overlay_heatmap(heatmap, orig, alpha=0.5)"
   ]
  },
  {
   "cell_type": "code",
   "execution_count": 75,
   "id": "67c1ee57-d5f4-4fad-b0d8-8dce00a38415",
   "metadata": {},
   "outputs": [],
   "source": [
    "# draw the predicted label on the output image\n",
    "cv2.rectangle(output, (0, 0), (340, 40), (0, 0, 0), -1)\n",
    "cv2.putText(output, label, (10, 25), cv2.FONT_HERSHEY_SIMPLEX, 0.8, (255, 255, 255), 2)\n",
    "\n",
    "# display the original image and resulting heatmap and output image\n",
    "# to our screen\n",
    "output = np.vstack([orig, heatmap, output])\n",
    "output = imutils.resize(output, height=700)\n",
    "cv2.imshow(\"Output\", output)\n",
    "cv2.waitKey(0)\n",
    "cv2.destroyAllWindows()"
   ]
  },
  {
   "cell_type": "code",
   "execution_count": null,
   "id": "1597c081-b31d-424c-87e4-a36eca2f0dd1",
   "metadata": {},
   "outputs": [],
   "source": []
  }
 ],
 "metadata": {
  "kernelspec": {
   "display_name": "Python 3 (ipykernel)",
   "language": "python",
   "name": "python3"
  },
  "language_info": {
   "codemirror_mode": {
    "name": "ipython",
    "version": 3
   },
   "file_extension": ".py",
   "mimetype": "text/x-python",
   "name": "python",
   "nbconvert_exporter": "python",
   "pygments_lexer": "ipython3",
   "version": "3.12.4"
  }
 },
 "nbformat": 4,
 "nbformat_minor": 5
}
